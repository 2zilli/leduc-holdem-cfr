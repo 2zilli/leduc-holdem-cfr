{
  "nbformat": 4,
  "nbformat_minor": 0,
  "metadata": {
    "colab": {
      "provenance": [],
      "authorship_tag": "ABX9TyNGIJZpA3oafuFRCDl7Xdgd",
      "include_colab_link": true
    },
    "kernelspec": {
      "name": "python3",
      "display_name": "Python 3"
    },
    "language_info": {
      "name": "python"
    }
  },
  "cells": [
    {
      "cell_type": "markdown",
      "metadata": {
        "id": "view-in-github",
        "colab_type": "text"
      },
      "source": [
        "<a href=\"https://colab.research.google.com/github/2zilli/leduc-holdem-cfr/blob/main/leduc_holdem_cfr.ipynb\" target=\"_parent\"><img src=\"https://colab.research.google.com/assets/colab-badge.svg\" alt=\"Open In Colab\"/></a>"
      ]
    },
    {
      "cell_type": "markdown",
      "source": [
        "# Counterfactual Regret Minimization (CFR) for Leduc Hold'em\n",
        "\n",
        "This notebook explores the application of Counterfactual Regret Minimization (CFR) to the game of Leduc Hold'em, a simplified version of poker that is often used as a benchmark in game theory and AI research. We will implement the game logic, develop a CFR agent, and simulate games to evaluate the agent's effectiveness.\n"
      ],
      "metadata": {
        "id": "GMgkAnrGjAdb"
      }
    },
    {
      "cell_type": "markdown",
      "source": [
        "Abstract Base Class: PokerGame\n",
        "The PokerGame class serves as an abstract base class for poker-style games. This class defines the structure and required methods that any specific poker game implementation must provide. Here's an overview of its responsibilities:\n",
        "\n",
        "Card Representation: Converts card values to human-readable characters.\n",
        "Game State Management: Includes methods to reset the game, check if the game state is terminal, and replicate the game state.\n",
        "Actions and Payoffs: Defines methods to get available actions, perform actions, determine if the current state is a showdown, and calculate payoffs.\n",
        "This abstraction allows us to implement any specific poker game rules by extending this base class and providing specific implementations for these abstract methods."
      ],
      "metadata": {
        "id": "a4CoOHsri9rj"
      }
    },
    {
      "cell_type": "code",
      "execution_count": null,
      "metadata": {
        "id": "h-NDTrfbibCD"
      },
      "outputs": [],
      "source": [
        "from abc import ABC, abstractmethod\n",
        "\n",
        "class PokerGame(ABC):\n",
        "    \"\"\"\n",
        "    Abstract base class for poker-style games, providing common interface and functionality.\n",
        "    \"\"\"\n",
        "\n",
        "    @staticmethod\n",
        "    def get_card_char(card_value):\n",
        "        \"\"\"Returns the character representation of a card based on its integer value.\"\"\"\n",
        "        return {11: 'J', 12: 'Q', 13: 'K'}.get(card_value, '?')\n",
        "\n",
        "    @abstractmethod\n",
        "    def reset(self):\n",
        "        \"\"\"Resets the game to its initial state, shuffles and deals cards.\"\"\"\n",
        "        pass\n",
        "\n",
        "    @abstractmethod\n",
        "    def is_terminal(self):\n",
        "        \"\"\"Checks if the game is at a terminal state.\"\"\"\n",
        "        pass\n",
        "\n",
        "    @abstractmethod\n",
        "    def get_available_actions(self):\n",
        "        \"\"\"Returns the list of available actions for the current game state.\"\"\"\n",
        "        pass\n",
        "\n",
        "    @abstractmethod\n",
        "    def perform_action(self, action):\n",
        "        \"\"\"Performs an action and updates the game state accordingly.\"\"\"\n",
        "        pass\n",
        "\n",
        "    @abstractmethod\n",
        "    def is_showdown(self):\n",
        "        \"\"\"Determines if the current state is a showdown.\"\"\"\n",
        "        pass\n",
        "\n",
        "    @abstractmethod\n",
        "    def get_payoff(self):\n",
        "        \"\"\"Calculates and returns the payoff based on the current game state without altering the game's state.\"\"\"\n",
        "        pass\n",
        "\n",
        "    @abstractmethod\n",
        "    def clone(self):\n",
        "        \"\"\"Creates a deep copy of the current game state.\"\"\"\n",
        "        pass\n",
        "\n",
        "    def __repr__(self):\n",
        "        \"\"\"Returns a string representation of the game state.\"\"\"\n",
        "        return super().__repr__()"
      ]
    },
    {
      "cell_type": "code",
      "source": [
        "!git add .\n",
        "!git commit -m \"Initial commit\"\n"
      ],
      "metadata": {
        "colab": {
          "base_uri": "https://localhost:8080/"
        },
        "id": "Pg8HyKd8steC",
        "outputId": "42a68847-1064-4fac-d8f8-7e8df85e0a77"
      },
      "execution_count": 39,
      "outputs": [
        {
          "output_type": "stream",
          "name": "stdout",
          "text": [
            "Initialized empty Git repository in /content/.git/\n",
            "[main (root-commit) 1864593] Initial commit\n",
            " 20 files changed, 50810 insertions(+)\n",
            " create mode 100644 .config/.last_opt_in_prompt.yaml\n",
            " create mode 100644 .config/.last_survey_prompt.yaml\n",
            " create mode 100644 .config/.last_update_check.json\n",
            " create mode 100644 .config/active_config\n",
            " create mode 100644 .config/config_sentinel\n",
            " create mode 100644 .config/configurations/config_default\n",
            " create mode 100644 .config/default_configs.db\n",
            " create mode 100644 .config/gce\n",
            " create mode 100644 .config/logs/2024.05.09/13.23.50.356879.log\n",
            " create mode 100644 .config/logs/2024.05.09/13.24.13.774530.log\n",
            " create mode 100644 .config/logs/2024.05.09/13.24.23.617960.log\n",
            " create mode 100644 .config/logs/2024.05.09/13.24.31.258228.log\n",
            " create mode 100644 .config/logs/2024.05.09/13.24.41.868001.log\n",
            " create mode 100644 .config/logs/2024.05.09/13.24.42.436499.log\n",
            " create mode 100755 sample_data/README.md\n",
            " create mode 100755 sample_data/anscombe.json\n",
            " create mode 100644 sample_data/california_housing_test.csv\n",
            " create mode 100644 sample_data/california_housing_train.csv\n",
            " create mode 100644 sample_data/mnist_test.csv\n",
            " create mode 100644 sample_data/mnist_train_small.csv\n"
          ]
        }
      ]
    },
    {
      "cell_type": "code",
      "source": [
        "!git remote add origin https://github.com/2zilli/leduc-holdem-cfr.git\n"
      ],
      "metadata": {
        "colab": {
          "base_uri": "https://localhost:8080/"
        },
        "id": "zSNVYIq-sub7",
        "outputId": "3d8fb5e9-75b6-4268-c5a0-f368b9766fa3"
      },
      "execution_count": 42,
      "outputs": [
        {
          "output_type": "stream",
          "name": "stdout",
          "text": [
            "error: remote origin already exists.\n"
          ]
        }
      ]
    },
    {
      "cell_type": "code",
      "source": [
        "!git push --set-upstream origin main\n"
      ],
      "metadata": {
        "colab": {
          "base_uri": "https://localhost:8080/"
        },
        "id": "DDTZIlFBsxvs",
        "outputId": "7793fdc2-b63d-4ca9-db92-3b3749ec04c8"
      },
      "execution_count": 47,
      "outputs": [
        {
          "output_type": "stream",
          "name": "stdout",
          "text": [
            "Enumerating objects: 27, done.\n",
            "Counting objects:   3% (1/27)\rCounting objects:   7% (2/27)\rCounting objects:  11% (3/27)\rCounting objects:  14% (4/27)\rCounting objects:  18% (5/27)\rCounting objects:  22% (6/27)\rCounting objects:  25% (7/27)\rCounting objects:  29% (8/27)\rCounting objects:  33% (9/27)\rCounting objects:  37% (10/27)\rCounting objects:  40% (11/27)\rCounting objects:  44% (12/27)\rCounting objects:  48% (13/27)\rCounting objects:  51% (14/27)\rCounting objects:  55% (15/27)\rCounting objects:  59% (16/27)\rCounting objects:  62% (17/27)\rCounting objects:  66% (18/27)\rCounting objects:  70% (19/27)\rCounting objects:  74% (20/27)\rCounting objects:  77% (21/27)\rCounting objects:  81% (22/27)\rCounting objects:  85% (23/27)\rCounting objects:  88% (24/27)\rCounting objects:  92% (25/27)\rCounting objects:  96% (26/27)\rCounting objects: 100% (27/27)\rCounting objects: 100% (27/27), done.\n",
            "Delta compression using up to 2 threads\n",
            "Compressing objects: 100% (20/20), done.\n",
            "Writing objects: 100% (27/27), 8.42 MiB | 1.87 MiB/s, done.\n",
            "Total 27 (delta 4), reused 0 (delta 0), pack-reused 0\n",
            "remote: Resolving deltas: 100% (4/4), done.\u001b[K\n",
            "To https://github.com/2zilli/leduc-holdem-cfr.git\n",
            " * [new branch]      main -> main\n",
            "Branch 'main' set up to track remote branch 'main' from 'origin'.\n"
          ]
        }
      ]
    },
    {
      "cell_type": "code",
      "source": [],
      "metadata": {
        "id": "IMyAMq3Juy1v"
      },
      "execution_count": null,
      "outputs": []
    }
  ]
}