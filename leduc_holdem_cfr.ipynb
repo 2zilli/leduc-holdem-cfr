{
  "nbformat": 4,
  "nbformat_minor": 0,
  "metadata": {
    "colab": {
      "provenance": [],
      "authorship_tag": "ABX9TyOtF02XtfpUYYECJaGN+oSy",
      "include_colab_link": true
    },
    "kernelspec": {
      "name": "python3",
      "display_name": "Python 3"
    },
    "language_info": {
      "name": "python"
    }
  },
  "cells": [
    {
      "cell_type": "markdown",
      "metadata": {
        "id": "view-in-github",
        "colab_type": "text"
      },
      "source": [
        "<a href=\"https://colab.research.google.com/github/2zilli/leduc-holdem-cfr/blob/main/leduc_holdem_cfr.ipynb\" target=\"_parent\"><img src=\"https://colab.research.google.com/assets/colab-badge.svg\" alt=\"Open In Colab\"/></a>"
      ]
    },
    {
      "cell_type": "markdown",
      "source": [
        "# Counterfactual Regret Minimization (CFR) for Leduc Hold'em\n",
        "\n",
        "This notebook explores the application of Counterfactual Regret Minimization (CFR) to the game of Leduc Hold'em, a simplified version of poker that is often used as a benchmark in game theory and AI research. We will implement the game logic, develop a CFR agent, and simulate games to evaluate the agent's effectiveness.\n"
      ],
      "metadata": {
        "id": "GMgkAnrGjAdb"
      }
    },
    {
      "cell_type": "markdown",
      "source": [
        "Abstract Base Class: PokerGame\n",
        "The PokerGame class serves as an abstract base class for poker-style games. This class defines the structure and required methods that any specific poker game implementation must provide. Here's an overview of its responsibilities:\n",
        "\n",
        "Card Representation: Converts card values to human-readable characters.\n",
        "Game State Management: Includes methods to reset the game, check if the game state is terminal, and replicate the game state.\n",
        "Actions and Payoffs: Defines methods to get available actions, perform actions, determine if the current state is a showdown, and calculate payoffs.\n",
        "This abstraction allows us to implement any specific poker game rules by extending this base class and providing specific implementations for these abstract methods."
      ],
      "metadata": {
        "id": "a4CoOHsri9rj"
      }
    },
    {
      "cell_type": "code",
      "execution_count": null,
      "metadata": {
        "id": "h-NDTrfbibCD"
      },
      "outputs": [],
      "source": [
        "from abc import ABC, abstractmethod\n",
        "\n",
        "class PokerGame(ABC):\n",
        "    \"\"\"\n",
        "    Abstract base class for poker-style games, providing common interface and functionality.\n",
        "    \"\"\"\n",
        "\n",
        "    @staticmethod\n",
        "    def get_card_char(card_value):\n",
        "        \"\"\"Returns the character representation of a card based on its integer value.\"\"\"\n",
        "        return {11: 'J', 12: 'Q', 13: 'K'}.get(card_value, '?')\n",
        "\n",
        "    @abstractmethod\n",
        "    def reset(self):\n",
        "        \"\"\"Resets the game to its initial state, shuffles and deals cards.\"\"\"\n",
        "        pass\n",
        "\n",
        "    @abstractmethod\n",
        "    def is_terminal(self):\n",
        "        \"\"\"Checks if the game is at a terminal state.\"\"\"\n",
        "        pass\n",
        "\n",
        "    @abstractmethod\n",
        "    def get_available_actions(self):\n",
        "        \"\"\"Returns the list of available actions for the current game state.\"\"\"\n",
        "        pass\n",
        "\n",
        "    @abstractmethod\n",
        "    def perform_action(self, action):\n",
        "        \"\"\"Performs an action and updates the game state accordingly.\"\"\"\n",
        "        pass\n",
        "\n",
        "    @abstractmethod\n",
        "    def is_showdown(self):\n",
        "        \"\"\"Determines if the current state is a showdown.\"\"\"\n",
        "        pass\n",
        "\n",
        "    @abstractmethod\n",
        "    def get_payoff(self):\n",
        "        \"\"\"Calculates and returns the payoff based on the current game state without altering the game's state.\"\"\"\n",
        "        pass\n",
        "\n",
        "    @abstractmethod\n",
        "    def clone(self):\n",
        "        \"\"\"Creates a deep copy of the current game state.\"\"\"\n",
        "        pass\n",
        "\n",
        "    def __repr__(self):\n",
        "        \"\"\"Returns a string representation of the game state.\"\"\"\n",
        "        return super().__repr__()"
      ]
    },
    {
      "cell_type": "code",
      "source": [],
      "metadata": {
        "id": "IMyAMq3Juy1v"
      },
      "execution_count": null,
      "outputs": []
    }
  ]
}